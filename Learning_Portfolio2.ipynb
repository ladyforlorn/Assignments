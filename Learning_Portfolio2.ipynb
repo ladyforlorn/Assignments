{
  "nbformat": 4,
  "nbformat_minor": 0,
  "metadata": {
    "colab": {
      "provenance": []
    },
    "kernelspec": {
      "name": "python3",
      "display_name": "Python 3"
    },
    "language_info": {
      "name": "python"
    }
  },
  "cells": [
    {
      "cell_type": "code",
      "execution_count": null,
      "metadata": {
        "id": "fV2L7SgUHZyM"
      },
      "outputs": [],
      "source": []
    },
    {
      "cell_type": "markdown",
      "source": [
        "**get data, cleaning and overview**\n",
        "*   pd.read_csv(Path(\"...\")) create pandas data frame from csv file\n",
        "*   .info() gives number of rows data type etc\n",
        "*   .describe() gives summary of statistical measures\n",
        "*   .value_count() to find out which categories exist in a text column\n",
        "*   .hist(bins=int, figsize=(int, int)) gives histograms of all columns\n",
        "*.to_datetime changes to date\n",
        "*pd.cut(...['...‘], bins[float, float, ...], labels[str,...]) cuts column into sections\n",
        "\n",
        "\n",
        "\n",
        "\n",
        "\n"
      ],
      "metadata": {
        "id": "bncHu6iZHayO"
      }
    },
    {
      "cell_type": "markdown",
      "source": [
        "**Preparing Data for machine learning**\n",
        "\n",
        "\n",
        "*   Estimators: estimation based on the dataset performed by the .fit() method. A parameter to guide the estimation is called hyperparameter.\n",
        "*   Transformers: transforms a (unseen) dataset with .transform(). Also possible to use fit_transform() to perform both\n",
        "*OrdinalEncoder() and OneHotEncoder() can be used with fit_transform()\n",
        "*fit and fit_transform are only to be used on the training data or it will be biased\n",
        "*use kmeans to cluster data into k cluster\n",
        "*use radial basis function (RBF) to let the value of datapoints decay as they get further away from a fixed point\n",
        "\n",
        "\n"
      ],
      "metadata": {
        "id": "3FQ-HoSsjTHX"
      }
    },
    {
      "cell_type": "code",
      "source": [],
      "metadata": {
        "id": "mzzR-nQrHv7A"
      },
      "execution_count": null,
      "outputs": []
    }
  ]
}